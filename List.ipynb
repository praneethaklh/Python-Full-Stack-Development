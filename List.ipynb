{
  "nbformat": 4,
  "nbformat_minor": 0,
  "metadata": {
    "colab": {
      "name": "List.ipynb",
      "provenance": [],
      "authorship_tag": "ABX9TyPx/mKscHspUePCEN2M8vE1",
      "include_colab_link": true
    },
    "kernelspec": {
      "name": "python3",
      "display_name": "Python 3"
    },
    "language_info": {
      "name": "python"
    }
  },
  "cells": [
    {
      "cell_type": "markdown",
      "metadata": {
        "id": "view-in-github",
        "colab_type": "text"
      },
      "source": [
        "<a href=\"https://colab.research.google.com/github/praneethaklh/Python-Full-Stack-Development/blob/main/List.ipynb\" target=\"_parent\"><img src=\"https://colab.research.google.com/assets/colab-badge.svg\" alt=\"Open In Colab\"/></a>"
      ]
    },
    {
      "cell_type": "code",
      "execution_count": 1,
      "metadata": {
        "colab": {
          "base_uri": "https://localhost:8080/"
        },
        "id": "PplhnMSayYgC",
        "outputId": "6a6262b4-e6a3-40c4-ce00-065c23ca4cbb"
      },
      "outputs": [
        {
          "output_type": "stream",
          "name": "stdout",
          "text": [
            "['apple', 'banana', 'orange']\n"
          ]
        }
      ],
      "source": [
        "list1=[\"apple\",\"banana\",\"orange\"]\n",
        "print(list1)"
      ]
    },
    {
      "cell_type": "code",
      "source": [
        "list2=[\"blue\",\"red\",\"green\"]\n",
        "print(list2)"
      ],
      "metadata": {
        "colab": {
          "base_uri": "https://localhost:8080/"
        },
        "id": "vV9Po8Hszdx_",
        "outputId": "197dd324-15eb-4abb-8372-db5ada4f1a4b"
      },
      "execution_count": 3,
      "outputs": [
        {
          "output_type": "stream",
          "name": "stdout",
          "text": [
            "['blue', 'red', 'green']\n"
          ]
        }
      ]
    },
    {
      "cell_type": "code",
      "source": [
        "list3=[1,2,3]\n",
        "print(list3)"
      ],
      "metadata": {
        "colab": {
          "base_uri": "https://localhost:8080/"
        },
        "id": "-vOuoGGKzre-",
        "outputId": "34f96336-45a9-4c7c-b021-dea64308e01d"
      },
      "execution_count": 5,
      "outputs": [
        {
          "output_type": "stream",
          "name": "stdout",
          "text": [
            "[1, 2, 3]\n"
          ]
        }
      ]
    },
    {
      "cell_type": "code",
      "source": [
        "list4=[1,\"hello\",2,3]\n",
        "print(list4)"
      ],
      "metadata": {
        "colab": {
          "base_uri": "https://localhost:8080/"
        },
        "id": "Q34D0kGR0Adv",
        "outputId": "0a3deba4-5621-4851-d743-17744cd63551"
      },
      "execution_count": 7,
      "outputs": [
        {
          "output_type": "stream",
          "name": "stdout",
          "text": [
            "[1, 'hello', 2, 3]\n"
          ]
        }
      ]
    },
    {
      "cell_type": "code",
      "source": [
        "Nestlist=[\"mouse\",[8,6,4],['a']]"
      ],
      "metadata": {
        "id": "BVZ7yzJY0Muu"
      },
      "execution_count": 11,
      "outputs": []
    },
    {
      "cell_type": "code",
      "source": [
        "print(Nestlist)\n"
      ],
      "metadata": {
        "colab": {
          "base_uri": "https://localhost:8080/"
        },
        "id": "O0i_WC-i1Czo",
        "outputId": "0b96c1ae-c8be-48e5-cd3d-ef5ef73c18fe"
      },
      "execution_count": 14,
      "outputs": [
        {
          "output_type": "stream",
          "name": "stdout",
          "text": [
            "['mouse', [8, 6, 4], ['a']]\n"
          ]
        }
      ]
    },
    {
      "cell_type": "code",
      "source": [
        "print(Nestlist[0])"
      ],
      "metadata": {
        "colab": {
          "base_uri": "https://localhost:8080/"
        },
        "id": "1X10HeYs1aBA",
        "outputId": "f420f383-0555-465f-b07a-9706fdaa107d"
      },
      "execution_count": 15,
      "outputs": [
        {
          "output_type": "stream",
          "name": "stdout",
          "text": [
            "mouse\n"
          ]
        }
      ]
    }
  ]
}